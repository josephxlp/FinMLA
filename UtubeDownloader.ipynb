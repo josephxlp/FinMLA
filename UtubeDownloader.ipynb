{
  "nbformat": 4,
  "nbformat_minor": 0,
  "metadata": {
    "colab": {
      "provenance": [],
      "authorship_tag": "ABX9TyOJtWZOpZgQO6fw06fcLtGg",
      "include_colab_link": true
    },
    "kernelspec": {
      "name": "python3",
      "display_name": "Python 3"
    },
    "language_info": {
      "name": "python"
    }
  },
  "cells": [
    {
      "cell_type": "markdown",
      "metadata": {
        "id": "view-in-github",
        "colab_type": "text"
      },
      "source": [
        "<a href=\"https://colab.research.google.com/github/josephxlp/FinMLA/blob/main/UtubeDownloader.ipynb\" target=\"_parent\"><img src=\"https://colab.research.google.com/assets/colab-badge.svg\" alt=\"Open In Colab\"/></a>"
      ]
    },
    {
      "cell_type": "code",
      "source": [
        "!pip install yt-dlp --q"
      ],
      "metadata": {
        "colab": {
          "base_uri": "https://localhost:8080/"
        },
        "id": "AAK0RT_0rhiu",
        "outputId": "c26988b9-af12-4a50-fe3b-85a4b91d7a68"
      },
      "execution_count": 4,
      "outputs": [
        {
          "output_type": "stream",
          "name": "stdout",
          "text": [
            "\u001b[2K     \u001b[90m━━━━━━━━━━━━━━━━━━━━━━━━━━━━━━━━━━━━━━━━\u001b[0m \u001b[32m170.1/170.1 kB\u001b[0m \u001b[31m1.4 MB/s\u001b[0m eta \u001b[36m0:00:00\u001b[0m\n",
            "\u001b[2K   \u001b[90m━━━━━━━━━━━━━━━━━━━━━━━━━━━━━━━━━━━━━━━━\u001b[0m \u001b[32m3.1/3.1 MB\u001b[0m \u001b[31m19.9 MB/s\u001b[0m eta \u001b[36m0:00:00\u001b[0m\n",
            "\u001b[2K   \u001b[90m━━━━━━━━━━━━━━━━━━━━━━━━━━━━━━━━━━━━━━━━\u001b[0m \u001b[32m157.3/157.3 kB\u001b[0m \u001b[31m8.9 MB/s\u001b[0m eta \u001b[36m0:00:00\u001b[0m\n",
            "\u001b[2K   \u001b[90m━━━━━━━━━━━━━━━━━━━━━━━━━━━━━━━━━━━━━━━━\u001b[0m \u001b[32m3.0/3.0 MB\u001b[0m \u001b[31m62.8 MB/s\u001b[0m eta \u001b[36m0:00:00\u001b[0m\n",
            "\u001b[2K   \u001b[90m━━━━━━━━━━━━━━━━━━━━━━━━━━━━━━━━━━━━━━━━\u001b[0m \u001b[32m194.4/194.4 kB\u001b[0m \u001b[31m11.6 MB/s\u001b[0m eta \u001b[36m0:00:00\u001b[0m\n",
            "\u001b[2K   \u001b[90m━━━━━━━━━━━━━━━━━━━━━━━━━━━━━━━━━━━━━━━━\u001b[0m \u001b[32m2.1/2.1 MB\u001b[0m \u001b[31m53.8 MB/s\u001b[0m eta \u001b[36m0:00:00\u001b[0m\n",
            "\u001b[?25h"
          ]
        }
      ]
    },
    {
      "cell_type": "code",
      "source": [
        "from google.colab import drive\n",
        "import os,sys\n",
        "import shutil\n",
        "import yt_dlp"
      ],
      "metadata": {
        "id": "eS0mRCUJ9Jfh"
      },
      "execution_count": 7,
      "outputs": []
    },
    {
      "cell_type": "code",
      "source": [
        "drive.mount('/content/drive', force_remount=True)\n",
        "rpath = \"/content/drive/MyDrive/utube\"\n",
        "playlist_url = \"https://www.youtube.com/playlist?list=PLzWjmBOf3rY3hAXmvMI1-W52a23u-3U4o\"\n",
        "os.chdir(rpath)"
      ],
      "metadata": {
        "id": "G02q6TjH9vRb",
        "colab": {
          "base_uri": "https://localhost:8080/"
        },
        "outputId": "3ae9fd05-6461-4875-8e21-9e19cd6a1ebf"
      },
      "execution_count": 8,
      "outputs": [
        {
          "output_type": "stream",
          "name": "stdout",
          "text": [
            "Mounted at /content/drive\n"
          ]
        }
      ]
    },
    {
      "cell_type": "code",
      "source": [
        "def utube_playlist_download(playlist_url, wdir):\n",
        "  os.chdir(wdir)\n",
        "    # Options for yt-dlp\n",
        "  ydl_opts = {\n",
        "    'format': 'best',\n",
        "    'outtmpl': '%(title)s.%(ext)s',\n",
        "  }\n",
        "\n",
        "  # Download the playlist\n",
        "  with yt_dlp.YoutubeDL(ydl_opts) as ydl:\n",
        "    ydl.download([playlist_url])\n",
        "\n",
        "  print(\"Playlist downloaded successfully!\")\n",
        "\n",
        "def utube_video_download(video_url, wdir):\n",
        "  os.chdir(wdir)\n",
        "  pass\n",
        "\n",
        "def rename_files():\n",
        "  pass\n",
        "\n",
        "def mp4_to_mp3():\n",
        "  pass\n",
        "\n",
        "def extract_lyrics_from_video():\n",
        "  pass\n",
        "\n",
        "def convert_audio_to_text():\n",
        "  pass"
      ],
      "metadata": {
        "id": "SQ5eSuxKAc88"
      },
      "execution_count": 10,
      "outputs": []
    },
    {
      "cell_type": "code",
      "source": [
        "#utube_playlist_download(playlist_url,rpath)"
      ],
      "metadata": {
        "id": "gGq3yFKLsMeB"
      },
      "execution_count": 12,
      "outputs": []
    },
    {
      "cell_type": "code",
      "source": [
        "from glob import glob\n",
        "import string"
      ],
      "metadata": {
        "id": "YnRbRWyTAUcf"
      },
      "execution_count": 25,
      "outputs": []
    },
    {
      "cell_type": "code",
      "source": [
        "mp4_files = glob(rpath+'/*.mp4'); print(len(mp4_files))"
      ],
      "metadata": {
        "colab": {
          "base_uri": "https://localhost:8080/"
        },
        "id": "jejvHt6VASlJ",
        "outputId": "f33bcf23-1a83-464a-8797-d20c595c9921"
      },
      "execution_count": 15,
      "outputs": [
        {
          "output_type": "stream",
          "name": "stdout",
          "text": [
            "636\n"
          ]
        }
      ]
    },
    {
      "cell_type": "code",
      "source": [
        "mp4_dpath = os.path.join(rpath,'mp4')\n",
        "os.makedirs(mp4_dpath, exist_ok=True)\n",
        "mp3_dpath = os.path.join(rpath,'mp3')\n",
        "os.makedirs(mp3_dpath, exist_ok=True)"
      ],
      "metadata": {
        "id": "WHVYRKymF9Kd"
      },
      "execution_count": 18,
      "outputs": []
    },
    {
      "cell_type": "code",
      "source": [
        "# folist = []\n",
        "# for i,fi in enumerate(mp4_files):\n",
        "#   fo = os.path.basename(fi).replace(' ','_').replace('-','').replace(',','')\n",
        "#   #fo = fo.translate(str.maketrans('', '', string.punctuation))\n",
        "#   mfo = os.path.join(mp4_dpath,fo)\n",
        "#   shutil.move(fi,mfo)\n",
        "#   folist.append(fo)"
      ],
      "metadata": {
        "id": "ImF7CS7CGK5m"
      },
      "execution_count": null,
      "outputs": []
    },
    {
      "cell_type": "code",
      "source": [
        "!pip install ffmpeg-python --q"
      ],
      "metadata": {
        "id": "khLB4H-LAa0-"
      },
      "execution_count": 40,
      "outputs": []
    },
    {
      "cell_type": "code",
      "source": [
        "import ffmpeg"
      ],
      "metadata": {
        "id": "RiN_VT8jJEzM"
      },
      "execution_count": 41,
      "outputs": []
    },
    {
      "cell_type": "code",
      "source": [
        "import ffmpeg\n",
        "\n",
        "def convert_mp4_to_mp3(input_file, output_file):\n",
        "  \"\"\"\n",
        "  Converts an MP4 file to MP3 format.\n",
        "\n",
        "  Parameters:\n",
        "  - input_file: str, the path to the input MP4 file.\n",
        "  - output_file: str, the path where the output MP3 file will be saved.\n",
        "  \"\"\"\n",
        "  try:\n",
        "      ffmpeg.input(input_file).output(output_file, format='mp3', acodec='libmp3lame').run(overwrite_output=True)\n",
        "      print(f\"Converted {input_file} to {output_file}\")\n",
        "  except ffmpeg.Error as e:\n",
        "      print(f\"An error occurred while converting {input_file}: {e}\")\n"
      ],
      "metadata": {
        "id": "0sFHgatlJXTB"
      },
      "execution_count": 49,
      "outputs": []
    },
    {
      "cell_type": "code",
      "source": [
        "mp4_files = glob(mp4_dpath+'/*.mp4'); print(len(mp4_files))"
      ],
      "metadata": {
        "colab": {
          "base_uri": "https://localhost:8080/"
        },
        "id": "u8f7En64JIgB",
        "outputId": "08981866-5f76-42f6-f637-c41fe7e8092d"
      },
      "execution_count": 50,
      "outputs": [
        {
          "output_type": "stream",
          "name": "stdout",
          "text": [
            "636\n"
          ]
        }
      ]
    },
    {
      "cell_type": "code",
      "source": [
        "for i, fi in enumerate(mp4_files):\n",
        "  if i > 5:break\n",
        "  fo = os.path.join(mp3_dpath,os.path.basename(fi).replace('.mp4','.mp3'))\n",
        "  print(fi,'@@',fo)\n",
        "  convert_mp4_to_mp3(fi,fo)\n",
        ""
      ],
      "metadata": {
        "colab": {
          "base_uri": "https://localhost:8080/"
        },
        "id": "IypWQGw4JOAg",
        "outputId": "6e781de8-2ffa-4254-853a-6493a232ba93"
      },
      "execution_count": null,
      "outputs": [
        {
          "output_type": "stream",
          "name": "stdout",
          "text": [
            "/content/drive/MyDrive/utube/mp4/Harpa_Cristã_001__Chuvas_De_Graça.mp4 @@ /content/drive/MyDrive/utube/mp3/Harpa_Cristã_001__Chuvas_De_Graça.mp3\n",
            "Converted /content/drive/MyDrive/utube/mp4/Harpa_Cristã_001__Chuvas_De_Graça.mp4 to /content/drive/MyDrive/utube/mp3/Harpa_Cristã_001__Chuvas_De_Graça.mp3\n",
            "/content/drive/MyDrive/utube/mp4/Harpa_Cristã_002__Saudosa_Lembrança.mp4 @@ /content/drive/MyDrive/utube/mp3/Harpa_Cristã_002__Saudosa_Lembrança.mp3\n",
            "Converted /content/drive/MyDrive/utube/mp4/Harpa_Cristã_002__Saudosa_Lembrança.mp4 to /content/drive/MyDrive/utube/mp3/Harpa_Cristã_002__Saudosa_Lembrança.mp3\n",
            "/content/drive/MyDrive/utube/mp4/Harpa_Cristã_003__Plena_Paz.mp4 @@ /content/drive/MyDrive/utube/mp3/Harpa_Cristã_003__Plena_Paz.mp3\n",
            "Converted /content/drive/MyDrive/utube/mp4/Harpa_Cristã_003__Plena_Paz.mp4 to /content/drive/MyDrive/utube/mp3/Harpa_Cristã_003__Plena_Paz.mp3\n",
            "/content/drive/MyDrive/utube/mp4/Harpa_Cristã_004__Deus_Velará_Por_Ti.mp4 @@ /content/drive/MyDrive/utube/mp3/Harpa_Cristã_004__Deus_Velará_Por_Ti.mp3\n",
            "Converted /content/drive/MyDrive/utube/mp4/Harpa_Cristã_004__Deus_Velará_Por_Ti.mp4 to /content/drive/MyDrive/utube/mp3/Harpa_Cristã_004__Deus_Velará_Por_Ti.mp3\n",
            "/content/drive/MyDrive/utube/mp4/Harpa_Cristã_005__Ó_Desce_Fogo_Santo.mp4 @@ /content/drive/MyDrive/utube/mp3/Harpa_Cristã_005__Ó_Desce_Fogo_Santo.mp3\n",
            "Converted /content/drive/MyDrive/utube/mp4/Harpa_Cristã_005__Ó_Desce_Fogo_Santo.mp4 to /content/drive/MyDrive/utube/mp3/Harpa_Cristã_005__Ó_Desce_Fogo_Santo.mp3\n",
            "/content/drive/MyDrive/utube/mp4/Harpa_Cristã_006__Na_Maldição_Da_Cruz.mp4 @@ /content/drive/MyDrive/utube/mp3/Harpa_Cristã_006__Na_Maldição_Da_Cruz.mp3\n"
          ]
        }
      ]
    },
    {
      "cell_type": "code",
      "source": [],
      "metadata": {
        "id": "fuILAmiOJukt"
      },
      "execution_count": null,
      "outputs": []
    }
  ]
}